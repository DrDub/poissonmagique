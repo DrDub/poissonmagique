{
 "cells": [
  {
   "cell_type": "code",
   "execution_count": null,
   "metadata": {
    "collapsed": false
   },
   "outputs": [],
   "source": [
    "User.objects.all()[0].email"
   ]
  },
  {
   "cell_type": "code",
   "execution_count": null,
   "metadata": {
    "collapsed": true
   },
   "outputs": [],
   "source": [
    "import ipywidgets as widgets"
   ]
  },
  {
   "cell_type": "code",
   "execution_count": null,
   "metadata": {
    "collapsed": false
   },
   "outputs": [],
   "source": [
    "gmu = User.objects.all()[0]"
   ]
  },
  {
   "cell_type": "code",
   "execution_count": null,
   "metadata": {
    "collapsed": true
   },
   "outputs": [],
   "source": [
    "import webapp.poissonmagique.models as pmm"
   ]
  },
  {
   "cell_type": "code",
   "execution_count": null,
   "metadata": {
    "collapsed": false
   },
   "outputs": [],
   "source": [
    "gm = pmm.Human(user=gmu)\n",
    "gm.save()"
   ]
  },
  {
   "cell_type": "code",
   "execution_count": null,
   "metadata": {
    "collapsed": true
   },
   "outputs": [],
   "source": [
    "campaign=pmm.Campaign(name=\"Test\",gm=gm)\n",
    "campaign.save()"
   ]
  },
  {
   "cell_type": "code",
   "execution_count": null,
   "metadata": {
    "collapsed": true
   },
   "outputs": [],
   "source": [
    "def cmd_onboard(gm, player_email):\n",
    "    print \"sending to \", player_email, \" from \", gm.email"
   ]
  },
  {
   "cell_type": "code",
   "execution_count": null,
   "metadata": {
    "collapsed": false
   },
   "outputs": [],
   "source": [
    "def onboard_widget(gm):\n",
    "    emailbox = widgets.VBox()\n",
    "    send = widgets.Button(description=\"send\")\n",
    "    emails = [\"john@example.com\"]\n",
    "    def send_click(source):\n",
    "        for email in emails:\n",
    "           cmd_onboard(gm, email)\n",
    "    send.on_click(send_click)\n",
    "    \n",
    "    def make_box():\n",
    "        email_lines = []\n",
    "        for e, i in zip(emails,range(0,len(emails))):\n",
    "            line = widgets.HBox()\n",
    "            def add_row(source):\n",
    "                emails.insert(i+1,\"john@example.com\")\n",
    "                make_box()\n",
    "            def del_row(source):\n",
    "                del emails[i]\n",
    "                make_box()\n",
    "            btn_add = widgets.Button(description=\"+\")\n",
    "            btn_add.on_click(add_row)\n",
    "            btn_del = widgets.Button(description=\"-\")\n",
    "            btn_del.on_click(del_row)\n",
    "            text = widgets.Text(description=\"Player Email\", value=emails[i])\n",
    "            def text_edit(source):\n",
    "                emails[i] = text.value\n",
    "            text.on_trait_change(text_edit, 'value')\n",
    "            email_lines.append(widgets.HBox(children=(btn_add,btn_del,text)))\n",
    "            \n",
    "        emailbox.children = tuple(email_lines) \n",
    "    make_box()\n",
    "    onboard = widgets.VBox(children=[emailbox, send])\n",
    "    return onboard\n",
    "onboard_widget(gm)"
   ]
  }
 ],
 "metadata": {
  "kernelspec": {
   "display_name": "Django Shell-Plus",
   "language": "python",
   "name": "django_extensions"
  },
  "language_info": {
   "codemirror_mode": {
    "name": "ipython",
    "version": 2
   },
   "file_extension": ".py",
   "mimetype": "text/x-python",
   "name": "python",
   "nbconvert_exporter": "python",
   "pygments_lexer": "ipython2",
   "version": "2.7.9"
  }
 },
 "nbformat": 4,
 "nbformat_minor": 0
}

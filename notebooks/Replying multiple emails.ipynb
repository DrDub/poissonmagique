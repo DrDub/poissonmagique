{
 "cells": [
  {
   "cell_type": "code",
   "execution_count": null,
   "metadata": {
    "collapsed": true
   },
   "outputs": [],
   "source": [
    "import ipywidgets as widgets\n",
    "import datetime"
   ]
  },
  {
   "cell_type": "code",
   "execution_count": null,
   "metadata": {
    "collapsed": false
   },
   "outputs": [],
   "source": [
    "import webapp.poissonmagique.models as pmm"
   ]
  },
  {
   "cell_type": "code",
   "execution_count": null,
   "metadata": {
    "collapsed": false
   },
   "outputs": [],
   "source": [
    "q=pmm.Queue(name=\"main\",maildir=\"/tmp\")\n",
    "q.save()"
   ]
  },
  {
   "cell_type": "code",
   "execution_count": null,
   "metadata": {
    "collapsed": false
   },
   "outputs": [],
   "source": [
    "mid1 = pmm.MessageID(message_id=\"message1\",key=\"message1\",queue=q)\n",
    "mid1.save()"
   ]
  },
  {
   "cell_type": "code",
   "execution_count": null,
   "metadata": {
    "collapsed": true
   },
   "outputs": [],
   "source": [
    "mid2 = pmm.MessageID(message_id=\"message2\",key=\"message2\",queue=q)\n",
    "mid2.save()\n",
    "mid3 = pmm.MessageID(message_id=\"message3\",key=\"message3\",queue=q)\n",
    "mid3.save()"
   ]
  },
  {
   "cell_type": "code",
   "execution_count": null,
   "metadata": {
    "collapsed": false
   },
   "outputs": [],
   "source": [
    "gm=pmm.Human.objects.all()[0]"
   ]
  },
  {
   "cell_type": "code",
   "execution_count": null,
   "metadata": {
    "collapsed": true
   },
   "outputs": [],
   "source": [
    "user1 = User.objects.create_user('user1','user1@example.com','secret1')\n",
    "user1.save()\n",
    "user2 = User.objects.create_user('user2','user2@example.com','secret2')\n",
    "user2.save()"
   ]
  },
  {
   "cell_type": "code",
   "execution_count": null,
   "metadata": {
    "collapsed": false
   },
   "outputs": [],
   "source": [
    "h1 = pmm.Human(user=user1, name=user1.username, mail_address=user1.email)\n",
    "h1.save()\n",
    "h2 = pmm.Human(user=user2, name=user2.username, mail_address=user2.email)\n",
    "h2.save()"
   ]
  },
  {
   "cell_type": "code",
   "execution_count": null,
   "metadata": {
    "collapsed": true
   },
   "outputs": [],
   "source": [
    "campaign=pmm.Campaign.objects.all()[0]"
   ]
  },
  {
   "cell_type": "code",
   "execution_count": null,
   "metadata": {
    "collapsed": true
   },
   "outputs": [],
   "source": [
    "char1=pmm.Character(name=\"PC1\",controller=h1,mail_address=\"pc1@poissonmagique.net\",campaign=campaign)\n",
    "char1.save()\n",
    "char2=pmm.Character(name=\"PC2\",controller=h2,mail_address=\"pc2@poissonmagique.net\",campaign=campaign)\n",
    "char2.save()\n",
    "char3=pmm.Character(name=\"NPC1\",controller=gm,mail_address=\"npc1@poissonmagique.net\",campaign=campaign)\n",
    "char3.save()\n",
    "char4=pmm.Character(name=\"NPC2\",controller=gm,mail_address=\"npc2@poissonmagique.net\",campaign=campaign)\n",
    "char4.save()"
   ]
  },
  {
   "cell_type": "code",
   "execution_count": null,
   "metadata": {
    "collapsed": true
   },
   "outputs": [],
   "source": [
    "m1 = pmm.Message(message_id=\"mid1\",subject=\"At MtlPy\",text=\"\"\"When I get to MtlyPy I say hi.\n",
    "I try to find a chair as close to the beer as possibe.\n",
    "If anybody sees me, I try to look I'm PEP-8 complaint.\n",
    "\"\"\",author_human=h1,author_character=char1,when=datetime.datetime.now(),campaign=campaign)\n",
    "m1.save()"
   ]
  },
  {
   "cell_type": "code",
   "execution_count": null,
   "metadata": {
    "collapsed": true
   },
   "outputs": [],
   "source": [
    "m2 = pmm.Message(message_id=\"mid2\",subject=\"At MtlPy\",text=\"\"\"I came earlier at MtlyPy and drank all the beer.\n",
    "I think nobody realized I am a Java dev yet!\n",
    "\"\"\",author_human=h2,author_character=char2,when=datetime.datetime.now(),campaign=campaign)\n",
    "m2.save()"
   ]
  },
  {
   "cell_type": "code",
   "execution_count": null,
   "metadata": {
    "collapsed": true
   },
   "outputs": [],
   "source": [
    "m3 = pmm.Message(message_id=\"mid3\",subject=\"Unrelated email\",text=\"\"\"\n",
    "Welcome to Zork!\n",
    "\n",
    "Dungeon is a game of adventure, danger, and low cunning. In it\n",
    "you will explore some of the most amazing territory ever seen by mortal\n",
    "man. Hardened adventurers have run screaming from the terrors contained\n",
    "within.\n",
    "\"\"\",author_human=h2,author_character=char2,when=datetime.datetime.now(),campaign=campaign)\n",
    "m3.save()"
   ]
  },
  {
   "cell_type": "code",
   "execution_count": null,
   "metadata": {
    "collapsed": false
   },
   "outputs": [],
   "source": [
    "def multireply(campaign):\n",
    "    \n",
    "    all_sources = []\n",
    "    selected_sources = []\n",
    "    response = [ \"\"\"Type your response here\"\"\" ]\n",
    "    sent = [ False ]\n",
    "    \n",
    "    for mail in Message.objects.filter(campaign=campaign):\n",
    "        all_sources.append((str(mail),mail.message_id))\n",
    "        \n",
    "    all_mails = widgets.Select(description=\"sources\",options=all_sources)\n",
    "    \n",
    "    def add_source(source):\n",
    "        selected_sources.append(all_mails.value)\n",
    "        make_control()\n",
    "        \n",
    "    all_mails.on_trait_change(add_source, 'value')\n",
    "    \n",
    "    box = widgets.VBox()\n",
    "    def make_control():\n",
    "        sources_children = []\n",
    "        for msgid in selected_sources:\n",
    "            msg = pmm.Message.objects.filter(message_id = msgid)[0]\n",
    "            sources_children.append(widgets.HTML(\"\"\"<h2>%s</h2><p>%s</p><p>&nbsp;</p>\"\"\" % (msg.subject,msg.text)))\n",
    "        sources = widgets.VBox(children=sources_children)\n",
    "        send = widgets.Button(description=\"send\" if not sent[0] else \"sent\",disabled=sent[0])\n",
    "        email = widgets.Textarea(description=\"Response\",value=response[0],width=500,height=120)\n",
    "        def text_edit(source):\n",
    "            response[0] = email.value\n",
    "        email.on_trait_change(text_edit, 'value')\n",
    "        \n",
    "        def send_email(source):\n",
    "            print selected_sources, response[0]\n",
    "            sent[0] = True\n",
    "            make_control()\n",
    "        send.on_click(send_email)\n",
    "        \n",
    "        box.children = (all_mails,sources,email,send)\n",
    "        \n",
    "    make_control()\n",
    "    return box"
   ]
  },
  {
   "cell_type": "code",
   "execution_count": null,
   "metadata": {
    "collapsed": false
   },
   "outputs": [],
   "source": [
    "multireply(campaign)"
   ]
  },
  {
   "cell_type": "code",
   "execution_count": null,
   "metadata": {
    "collapsed": false
   },
   "outputs": [],
   "source": []
  }
 ],
 "metadata": {
  "kernelspec": {
   "display_name": "Django Shell-Plus",
   "language": "python",
   "name": "django_extensions"
  },
  "language_info": {
   "codemirror_mode": {
    "name": "ipython",
    "version": 2
   },
   "file_extension": ".py",
   "mimetype": "text/x-python",
   "name": "python",
   "nbconvert_exporter": "python",
   "pygments_lexer": "ipython2",
   "version": "2.7.9"
  }
 },
 "nbformat": 4,
 "nbformat_minor": 0
}
